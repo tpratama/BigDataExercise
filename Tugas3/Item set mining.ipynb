{
 "cells": [
  {
   "cell_type": "markdown",
   "metadata": {},
   "source": [
    "# DATASET"
   ]
  },
  {
   "cell_type": "code",
   "execution_count": 44,
   "metadata": {
    "collapsed": false
   },
   "outputs": [
    {
     "data": {
      "text/plain": [
       "[['nasi', 'ayam_goreng', 'sayur_asem', 'es_teh'],\n",
       " ['nasi', 'tempe', 'tahu', 'es_teh'],\n",
       " ['nasi', 'tempe', 'telur', 'es_jeruk'],\n",
       " ['nasi', 'telur', 'ayam_goreng', 'es_teh'],\n",
       " ['nasi', 'tempe', 'tahu', 'ayam_goreng', 'es_teh'],\n",
       " ['nasi', 'tempe', 'ayam_goreng', 'es_teh'],\n",
       " ['nasi', 'tempe', 'sayur_asem', 'es_teh'],\n",
       " ['nasi', 'tempe', 'sayur_asem', 'air_putih'],\n",
       " ['nasi', 'tempe', 'sayur_asem', 'ayam_goreng', 'es_jeruk'],\n",
       " ['nasi', 'ayam_goreng', 'es_teh'],\n",
       " ['nasi', 'tahu', 'tempe', 'es_teh'],\n",
       " ['nasi', 'telur', 'tahu', 'es_teh'],\n",
       " ['nasi', 'telur', 'es_teh'],\n",
       " ['nasi', 'ayam_goreng', 'tempe', 'air_putih']]"
      ]
     },
     "execution_count": 44,
     "metadata": {},
     "output_type": "execute_result"
    }
   ],
   "source": [
    "from pymining import itemmining, assocrules, perftesting,seqmining\n",
    "transactions = open('C:\\\\Users\\\\Sabila\\\\Documents\\\\BigData\\\\BigDataExercise\\\\Tugas3\\\\custom_datasets.txt','r')\n",
    "list_data=transactions.read().split('\\n')\n",
    "for i in range(0,len(list_data)):\n",
    "    list_data[i]=list_data[i].split(' ')\n",
    "list_data"
   ]
  },
  {
   "cell_type": "markdown",
   "metadata": {},
   "source": [
    "# Frequent Item Set"
   ]
  },
  {
   "cell_type": "code",
   "execution_count": 38,
   "metadata": {
    "collapsed": false
   },
   "outputs": [
    {
     "data": {
      "text/plain": [
       "{frozenset({'air_putih', 'nasi', 'tempe'}): 2,\n",
       " frozenset({'es_jeruk'}): 2,\n",
       " frozenset({'es_teh', 'tahu'}): 4,\n",
       " frozenset({'nasi', 'sayur_asem'}): 4,\n",
       " frozenset({'nasi', 'sayur_asem', 'tempe'}): 3,\n",
       " frozenset({'ayam_goreng', 'sayur_asem'}): 2,\n",
       " frozenset({'es_teh'}): 10,\n",
       " frozenset({'es_teh', 'telur'}): 3,\n",
       " frozenset({'ayam_goreng', 'es_teh', 'nasi'}): 5,\n",
       " frozenset({'air_putih', 'nasi'}): 2,\n",
       " frozenset({'telur'}): 4,\n",
       " frozenset({'es_teh', 'nasi', 'telur'}): 3,\n",
       " frozenset({'tempe'}): 9,\n",
       " frozenset({'es_jeruk', 'tempe'}): 2,\n",
       " frozenset({'tahu', 'tempe'}): 3,\n",
       " frozenset({'nasi'}): 14,\n",
       " frozenset({'nasi', 'tempe'}): 9,\n",
       " frozenset({'es_jeruk', 'nasi', 'tempe'}): 2,\n",
       " frozenset({'tahu'}): 4,\n",
       " frozenset({'nasi', 'tahu'}): 4,\n",
       " frozenset({'nasi', 'tahu', 'tempe'}): 3,\n",
       " frozenset({'ayam_goreng'}): 7,\n",
       " frozenset({'ayam_goreng', 'nasi', 'tempe'}): 4,\n",
       " frozenset({'nasi', 'telur'}): 4,\n",
       " frozenset({'ayam_goreng', 'es_teh', 'nasi', 'tempe'}): 2,\n",
       " frozenset({'sayur_asem'}): 4,\n",
       " frozenset({'es_teh', 'sayur_asem'}): 2,\n",
       " frozenset({'sayur_asem', 'tempe'}): 3,\n",
       " frozenset({'es_teh', 'nasi'}): 10,\n",
       " frozenset({'es_teh', 'nasi', 'tahu'}): 4,\n",
       " frozenset({'es_teh', 'tempe'}): 5,\n",
       " frozenset({'es_teh', 'nasi', 'tempe'}): 5,\n",
       " frozenset({'air_putih'}): 2,\n",
       " frozenset({'air_putih', 'tempe'}): 2,\n",
       " frozenset({'es_teh', 'tahu', 'tempe'}): 3,\n",
       " frozenset({'ayam_goreng', 'nasi'}): 7,\n",
       " frozenset({'ayam_goreng', 'nasi', 'sayur_asem'}): 2,\n",
       " frozenset({'ayam_goreng', 'es_teh'}): 5,\n",
       " frozenset({'ayam_goreng', 'tempe'}): 4,\n",
       " frozenset({'es_teh', 'nasi', 'sayur_asem'}): 2,\n",
       " frozenset({'es_teh', 'nasi', 'tahu', 'tempe'}): 3,\n",
       " frozenset({'es_jeruk', 'nasi'}): 2,\n",
       " frozenset({'ayam_goreng', 'es_teh', 'tempe'}): 2}"
      ]
     },
     "execution_count": 38,
     "metadata": {},
     "output_type": "execute_result"
    }
   ],
   "source": [
    "relim_input = itemmining.get_relim_input(list_data)\n",
    "report = itemmining.relim(relim_input, min_support=2)\n",
    "report"
   ]
  },
  {
   "cell_type": "markdown",
   "metadata": {},
   "source": [
    "# Assoc Mining"
   ]
  },
  {
   "cell_type": "code",
   "execution_count": 43,
   "metadata": {
    "collapsed": false
   },
   "outputs": [
    {
     "data": {
      "text/plain": [
       "[(frozenset({'ayam_goreng', 'nasi', 'tempe'}), frozenset({'es_teh'}), 2, 0.5),\n",
       " (frozenset({'ayam_goreng', 'tempe'}), frozenset({'es_teh', 'nasi'}), 2, 0.5),\n",
       " (frozenset({'ayam_goreng', 'es_teh', 'tempe'}), frozenset({'nasi'}), 2, 1.0),\n",
       " (frozenset({'nasi', 'tahu', 'tempe'}), frozenset({'es_teh'}), 3, 1.0),\n",
       " (frozenset({'tahu', 'tempe'}), frozenset({'es_teh', 'nasi'}), 3, 1.0),\n",
       " (frozenset({'tahu'}), frozenset({'es_teh', 'nasi', 'tempe'}), 3, 0.75),\n",
       " (frozenset({'nasi', 'tahu'}), frozenset({'es_teh', 'tempe'}), 3, 0.75),\n",
       " (frozenset({'es_teh', 'tahu', 'tempe'}), frozenset({'nasi'}), 3, 1.0),\n",
       " (frozenset({'es_teh', 'tempe'}), frozenset({'nasi', 'tahu'}), 3, 0.6),\n",
       " (frozenset({'es_teh', 'tahu'}), frozenset({'nasi', 'tempe'}), 3, 0.75),\n",
       " (frozenset({'es_teh', 'nasi', 'tempe'}), frozenset({'tahu'}), 3, 0.6),\n",
       " (frozenset({'es_teh', 'nasi', 'tahu'}), frozenset({'tempe'}), 3, 0.75),\n",
       " (frozenset({'air_putih', 'tempe'}), frozenset({'nasi'}), 2, 1.0),\n",
       " (frozenset({'air_putih'}), frozenset({'nasi', 'tempe'}), 2, 1.0),\n",
       " (frozenset({'air_putih', 'nasi'}), frozenset({'tempe'}), 2, 1.0),\n",
       " (frozenset({'sayur_asem', 'tempe'}), frozenset({'nasi'}), 3, 1.0),\n",
       " (frozenset({'sayur_asem'}), frozenset({'nasi', 'tempe'}), 3, 0.75),\n",
       " (frozenset({'nasi', 'sayur_asem'}), frozenset({'tempe'}), 3, 0.75),\n",
       " (frozenset({'es_teh', 'nasi'}), frozenset({'ayam_goreng'}), 5, 0.5),\n",
       " (frozenset({'es_teh'}), frozenset({'ayam_goreng', 'nasi'}), 5, 0.5),\n",
       " (frozenset({'ayam_goreng', 'nasi'}),\n",
       "  frozenset({'es_teh'}),\n",
       "  5,\n",
       "  0.7142857142857143),\n",
       " (frozenset({'ayam_goreng'}),\n",
       "  frozenset({'es_teh', 'nasi'}),\n",
       "  5,\n",
       "  0.7142857142857143),\n",
       " (frozenset({'ayam_goreng', 'es_teh'}), frozenset({'nasi'}), 5, 1.0),\n",
       " (frozenset({'nasi', 'telur'}), frozenset({'es_teh'}), 3, 0.75),\n",
       " (frozenset({'telur'}), frozenset({'es_teh', 'nasi'}), 3, 0.75),\n",
       " (frozenset({'es_teh', 'telur'}), frozenset({'nasi'}), 3, 1.0),\n",
       " (frozenset({'es_jeruk', 'tempe'}), frozenset({'nasi'}), 2, 1.0),\n",
       " (frozenset({'es_jeruk'}), frozenset({'nasi', 'tempe'}), 2, 1.0),\n",
       " (frozenset({'es_jeruk', 'nasi'}), frozenset({'tempe'}), 2, 1.0),\n",
       " (frozenset({'tahu', 'tempe'}), frozenset({'nasi'}), 3, 1.0),\n",
       " (frozenset({'tahu'}), frozenset({'nasi', 'tempe'}), 3, 0.75),\n",
       " (frozenset({'nasi', 'tahu'}), frozenset({'tempe'}), 3, 0.75),\n",
       " (frozenset({'ayam_goreng', 'tempe'}), frozenset({'nasi'}), 4, 1.0),\n",
       " (frozenset({'ayam_goreng'}),\n",
       "  frozenset({'nasi', 'tempe'}),\n",
       "  4,\n",
       "  0.5714285714285714),\n",
       " (frozenset({'ayam_goreng', 'nasi'}),\n",
       "  frozenset({'tempe'}),\n",
       "  4,\n",
       "  0.5714285714285714),\n",
       " (frozenset({'nasi', 'tahu'}), frozenset({'es_teh'}), 4, 1.0),\n",
       " (frozenset({'tahu'}), frozenset({'es_teh', 'nasi'}), 4, 1.0),\n",
       " (frozenset({'es_teh', 'tahu'}), frozenset({'nasi'}), 4, 1.0),\n",
       " (frozenset({'nasi', 'tempe'}), frozenset({'es_teh'}), 5, 0.5555555555555556),\n",
       " (frozenset({'tempe'}), frozenset({'es_teh', 'nasi'}), 5, 0.5555555555555556),\n",
       " (frozenset({'es_teh', 'tempe'}), frozenset({'nasi'}), 5, 1.0),\n",
       " (frozenset({'es_teh'}), frozenset({'nasi', 'tempe'}), 5, 0.5),\n",
       " (frozenset({'es_teh', 'nasi'}), frozenset({'tempe'}), 5, 0.5),\n",
       " (frozenset({'tahu', 'tempe'}), frozenset({'es_teh'}), 3, 1.0),\n",
       " (frozenset({'tahu'}), frozenset({'es_teh', 'tempe'}), 3, 0.75),\n",
       " (frozenset({'es_teh', 'tempe'}), frozenset({'tahu'}), 3, 0.6),\n",
       " (frozenset({'es_teh', 'tahu'}), frozenset({'tempe'}), 3, 0.75),\n",
       " (frozenset({'nasi', 'sayur_asem'}), frozenset({'ayam_goreng'}), 2, 0.5),\n",
       " (frozenset({'sayur_asem'}), frozenset({'ayam_goreng', 'nasi'}), 2, 0.5),\n",
       " (frozenset({'ayam_goreng', 'sayur_asem'}), frozenset({'nasi'}), 2, 1.0),\n",
       " (frozenset({'nasi', 'sayur_asem'}), frozenset({'es_teh'}), 2, 0.5),\n",
       " (frozenset({'sayur_asem'}), frozenset({'es_teh', 'nasi'}), 2, 0.5),\n",
       " (frozenset({'es_teh', 'sayur_asem'}), frozenset({'nasi'}), 2, 1.0),\n",
       " (frozenset({'ayam_goreng', 'tempe'}), frozenset({'es_teh'}), 2, 0.5),\n",
       " (frozenset({'tahu'}), frozenset({'es_teh'}), 4, 1.0),\n",
       " (frozenset({'sayur_asem'}), frozenset({'nasi'}), 4, 1.0),\n",
       " (frozenset({'sayur_asem'}), frozenset({'ayam_goreng'}), 2, 0.5),\n",
       " (frozenset({'telur'}), frozenset({'es_teh'}), 3, 0.75),\n",
       " (frozenset({'air_putih'}), frozenset({'nasi'}), 2, 1.0),\n",
       " (frozenset({'es_jeruk'}), frozenset({'tempe'}), 2, 1.0),\n",
       " (frozenset({'tahu'}), frozenset({'tempe'}), 3, 0.75),\n",
       " (frozenset({'tempe'}), frozenset({'nasi'}), 9, 1.0),\n",
       " (frozenset({'nasi'}), frozenset({'tempe'}), 9, 0.6428571428571429),\n",
       " (frozenset({'telur'}), frozenset({'nasi'}), 4, 1.0),\n",
       " (frozenset({'sayur_asem'}), frozenset({'es_teh'}), 2, 0.5),\n",
       " (frozenset({'sayur_asem'}), frozenset({'tempe'}), 3, 0.75),\n",
       " (frozenset({'tahu'}), frozenset({'nasi'}), 4, 1.0),\n",
       " (frozenset({'air_putih'}), frozenset({'tempe'}), 2, 1.0),\n",
       " (frozenset({'tempe'}), frozenset({'es_teh'}), 5, 0.5555555555555556),\n",
       " (frozenset({'es_teh'}), frozenset({'tempe'}), 5, 0.5),\n",
       " (frozenset({'nasi'}), frozenset({'es_teh'}), 10, 0.7142857142857143),\n",
       " (frozenset({'es_teh'}), frozenset({'nasi'}), 10, 1.0),\n",
       " (frozenset({'nasi'}), frozenset({'ayam_goreng'}), 7, 0.5),\n",
       " (frozenset({'ayam_goreng'}), frozenset({'nasi'}), 7, 1.0),\n",
       " (frozenset({'es_teh'}), frozenset({'ayam_goreng'}), 5, 0.5),\n",
       " (frozenset({'ayam_goreng'}), frozenset({'es_teh'}), 5, 0.7142857142857143),\n",
       " (frozenset({'ayam_goreng'}), frozenset({'tempe'}), 4, 0.5714285714285714),\n",
       " (frozenset({'es_jeruk'}), frozenset({'nasi'}), 2, 1.0)]"
      ]
     },
     "execution_count": 43,
     "metadata": {},
     "output_type": "execute_result"
    }
   ],
   "source": [
    "relim_input = itemmining.get_relim_input(list_data)\n",
    "item_sets = itemmining.relim(relim_input, min_support=2)\n",
    "rules = assocrules.mine_assoc_rules(item_sets, min_support=2, min_confidence=0.5)\n",
    "rules"
   ]
  },
  {
   "cell_type": "markdown",
   "metadata": {},
   "source": [
    "# Seq Mining"
   ]
  },
  {
   "cell_type": "code",
   "execution_count": 47,
   "metadata": {
    "collapsed": false
   },
   "outputs": [
    {
     "data": {
      "text/plain": [
       "[(('air_putih',), 2),\n",
       " (('ayam_goreng',), 7),\n",
       " (('ayam_goreng', 'es_teh'), 5),\n",
       " (('es_jeruk',), 2),\n",
       " (('es_teh',), 10),\n",
       " (('nasi',), 14),\n",
       " (('nasi', 'air_putih'), 2),\n",
       " (('nasi', 'ayam_goreng'), 7),\n",
       " (('nasi', 'ayam_goreng', 'es_teh'), 5),\n",
       " (('nasi', 'es_jeruk'), 2),\n",
       " (('nasi', 'es_teh'), 10),\n",
       " (('nasi', 'sayur_asem'), 4),\n",
       " (('nasi', 'sayur_asem', 'es_teh'), 2),\n",
       " (('nasi', 'tahu'), 4),\n",
       " (('nasi', 'tahu', 'es_teh'), 4),\n",
       " (('nasi', 'telur'), 4),\n",
       " (('nasi', 'telur', 'es_teh'), 3),\n",
       " (('nasi', 'tempe'), 9),\n",
       " (('nasi', 'tempe', 'air_putih'), 2),\n",
       " (('nasi', 'tempe', 'ayam_goreng'), 3),\n",
       " (('nasi', 'tempe', 'ayam_goreng', 'es_teh'), 2),\n",
       " (('nasi', 'tempe', 'es_jeruk'), 2),\n",
       " (('nasi', 'tempe', 'es_teh'), 5),\n",
       " (('nasi', 'tempe', 'sayur_asem'), 3),\n",
       " (('nasi', 'tempe', 'tahu'), 2),\n",
       " (('nasi', 'tempe', 'tahu', 'es_teh'), 2),\n",
       " (('sayur_asem',), 4),\n",
       " (('sayur_asem', 'es_teh'), 2),\n",
       " (('tahu',), 4),\n",
       " (('tahu', 'es_teh'), 4),\n",
       " (('telur',), 4),\n",
       " (('telur', 'es_teh'), 3),\n",
       " (('tempe',), 9),\n",
       " (('tempe', 'air_putih'), 2),\n",
       " (('tempe', 'ayam_goreng'), 3),\n",
       " (('tempe', 'ayam_goreng', 'es_teh'), 2),\n",
       " (('tempe', 'es_jeruk'), 2),\n",
       " (('tempe', 'es_teh'), 5),\n",
       " (('tempe', 'sayur_asem'), 3),\n",
       " (('tempe', 'tahu'), 2),\n",
       " (('tempe', 'tahu', 'es_teh'), 2)]"
      ]
     },
     "execution_count": 47,
     "metadata": {},
     "output_type": "execute_result"
    }
   ],
   "source": [
    "freq_seqs = seqmining.freq_seq_enum(list_data, 2)\n",
    "sorted(freq_seqs)"
   ]
  },
  {
   "cell_type": "code",
   "execution_count": null,
   "metadata": {
    "collapsed": true
   },
   "outputs": [],
   "source": []
  },
  {
   "cell_type": "code",
   "execution_count": null,
   "metadata": {
    "collapsed": true
   },
   "outputs": [],
   "source": []
  }
 ],
 "metadata": {
  "kernelspec": {
   "display_name": "Python 3",
   "language": "python",
   "name": "python3"
  },
  "language_info": {
   "codemirror_mode": {
    "name": "ipython",
    "version": 3
   },
   "file_extension": ".py",
   "mimetype": "text/x-python",
   "name": "python",
   "nbconvert_exporter": "python",
   "pygments_lexer": "ipython3",
   "version": "3.5.0"
  }
 },
 "nbformat": 4,
 "nbformat_minor": 2
}
