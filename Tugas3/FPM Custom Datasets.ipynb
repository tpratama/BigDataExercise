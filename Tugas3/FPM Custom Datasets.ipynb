{
 "cells": [
  {
   "cell_type": "code",
   "execution_count": 6,
   "metadata": {
    "collapsed": false,
    "deletable": true,
    "editable": true
   },
   "outputs": [],
   "source": [
    "# Konfigurasi Spark\n",
    "import os\n",
    "import sys\n",
    "\n",
    "# 1. Mengeset variabel yang menyimpan lokasi di mana Spark diinstal\n",
    "spark_path = \"C:\\\\Users\\\\Sabila\\\\Documents\\\\spark\"\n",
    "\n",
    "# 2. Menentukan environment variable SPARK_HOME\n",
    "os.environ['SPARK_HOME'] = spark_path\n",
    "\n",
    "# 3. Simpan lokasi winutils.exe sebagai environment variable HADOOP_HOME\n",
    "os.environ['HADOOP_HOME'] = spark_path\n",
    "\n",
    "# 4. Lokasi Python yang dijalankan --> punya Anaconda\n",
    "#    Apabila Python yang diinstall hanya Anaconda, maka tidak perlu menjalankan baris ini.\n",
    "os.environ['PYSPARK_PYTHON'] = sys.executable\n",
    "\n",
    "# 5. Konfigurasi path library PySpark\n",
    "sys.path.append(spark_path + \"/bin\")\n",
    "sys.path.append(spark_path + \"/python\")\n",
    "sys.path.append(spark_path + \"/python/pyspark/\")\n",
    "sys.path.append(spark_path + \"/python/lib\")\n",
    "sys.path.append(spark_path + \"/python/lib/pyspark.zip\")\n",
    "sys.path.append(spark_path + \"/python/lib/py4j-0.10.4-src.zip\")\n",
    "\n",
    "# 6. Import library Spark\n",
    "#    Dua library yang WAJIB di-import adalah **SparkContext** dan **SparkConf**.\n",
    "from pyspark import SparkContext\n",
    "from pyspark import SparkConf\n",
    "\n",
    "# Setting konfigurasi (opsional)\n",
    "conf = SparkConf()\n",
    "conf.set(\"spark.executor.memory\", \"2g\")\n",
    "conf.set(\"spark.cores.max\", \"4\")\n",
    "\n",
    "sc = SparkContext(\"local\", conf=conf)"
   ]
  },
  {
   "cell_type": "code",
   "execution_count": 7,
   "metadata": {
    "collapsed": false,
    "deletable": true,
    "editable": true
   },
   "outputs": [
    {
     "name": "stdout",
     "output_type": "stream",
     "text": [
      "FreqItemset(items=['nasi'], freq=14)\n",
      "FreqItemset(items=['es_teh'], freq=10)\n",
      "FreqItemset(items=['es_teh', 'nasi'], freq=10)\n",
      "FreqItemset(items=['tempe'], freq=9)\n",
      "FreqItemset(items=['tempe', 'es_teh'], freq=5)\n",
      "FreqItemset(items=['tempe', 'es_teh', 'nasi'], freq=5)\n",
      "FreqItemset(items=['tempe', 'nasi'], freq=9)\n",
      "FreqItemset(items=['ayam_goreng'], freq=7)\n",
      "FreqItemset(items=['ayam_goreng', 'tempe'], freq=4)\n",
      "FreqItemset(items=['ayam_goreng', 'tempe', 'nasi'], freq=4)\n",
      "FreqItemset(items=['ayam_goreng', 'es_teh'], freq=5)\n",
      "FreqItemset(items=['ayam_goreng', 'es_teh', 'nasi'], freq=5)\n",
      "FreqItemset(items=['ayam_goreng', 'nasi'], freq=7)\n",
      "FreqItemset(items=['tahu'], freq=4)\n",
      "FreqItemset(items=['tahu', 'tempe'], freq=3)\n",
      "FreqItemset(items=['tahu', 'tempe', 'es_teh'], freq=3)\n",
      "FreqItemset(items=['tahu', 'tempe', 'es_teh', 'nasi'], freq=3)\n",
      "FreqItemset(items=['tahu', 'tempe', 'nasi'], freq=3)\n",
      "FreqItemset(items=['tahu', 'es_teh'], freq=4)\n",
      "FreqItemset(items=['tahu', 'es_teh', 'nasi'], freq=4)\n",
      "FreqItemset(items=['tahu', 'nasi'], freq=4)\n",
      "FreqItemset(items=['telur'], freq=4)\n",
      "FreqItemset(items=['telur', 'es_teh'], freq=3)\n",
      "FreqItemset(items=['telur', 'es_teh', 'nasi'], freq=3)\n",
      "FreqItemset(items=['telur', 'nasi'], freq=4)\n",
      "FreqItemset(items=['sayur_asem'], freq=4)\n",
      "FreqItemset(items=['sayur_asem', 'tempe'], freq=3)\n",
      "FreqItemset(items=['sayur_asem', 'tempe', 'nasi'], freq=3)\n",
      "FreqItemset(items=['sayur_asem', 'nasi'], freq=4)\n"
     ]
    }
   ],
   "source": [
    "from pyspark.mllib.fpm import FPGrowth\n",
    "\n",
    "data = sc.textFile(\"C:/Users/Sabila/Documents/custom_datasets.txt\")\n",
    "transactions = data.map(lambda line: line.strip().split(' '))\n",
    "model = FPGrowth.train(transactions, minSupport=0.2, numPartitions=10)\n",
    "result = model.freqItemsets().collect()\n",
    "for fi in result:\n",
    "    print(fi)"
   ]
  }
 ],
 "metadata": {
  "kernelspec": {
   "display_name": "Python 3",
   "language": "python",
   "name": "python3"
  },
  "language_info": {
   "codemirror_mode": {
    "name": "ipython",
    "version": 3
   },
   "file_extension": ".py",
   "mimetype": "text/x-python",
   "name": "python",
   "nbconvert_exporter": "python",
   "pygments_lexer": "ipython3",
   "version": "3.5.0"
  }
 },
 "nbformat": 4,
 "nbformat_minor": 2
}
